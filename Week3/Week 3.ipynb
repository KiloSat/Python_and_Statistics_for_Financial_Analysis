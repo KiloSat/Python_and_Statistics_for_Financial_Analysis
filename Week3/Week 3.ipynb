{
 "cells": [
  {
   "cell_type": "markdown",
   "metadata": {},
   "source": [
    "### Population and Sample"
   ]
  },
  {
   "cell_type": "code",
   "execution_count": 1,
   "metadata": {},
   "outputs": [],
   "source": [
    "import pandas as pd \n",
    "data = pd.DataFrame()"
   ]
  },
  {
   "cell_type": "code",
   "execution_count": 2,
   "metadata": {},
   "outputs": [],
   "source": [
    "data['Population'] = [12,34,62,53,43,49,32,82,33]"
   ]
  },
  {
   "cell_type": "code",
   "execution_count": 3,
   "metadata": {},
   "outputs": [],
   "source": [
    "var1 = data['Population'].sample(20,replace=True) #here we can have repeated values while selecting\n",
    "var2 = data['Population'].sample(9,replace=False) #here we can't have repeated values while selecting\n",
    "#print(var1,var2)\n",
    "#type(var1)"
   ]
  },
  {
   "cell_type": "markdown",
   "metadata": {},
   "source": [
    "#### We take Mean Variance and Std Deviation of our values "
   ]
  },
  {
   "cell_type": "code",
   "execution_count": 4,
   "metadata": {},
   "outputs": [
    {
     "name": "stdout",
     "output_type": "stream",
     "text": [
      "Mean 44.44444444444444\n",
      "Var 362.46913580246905\n",
      "Std 19.038622213870127\n",
      "Size 9\n"
     ]
    }
   ],
   "source": [
    "print('Mean',data['Population'].mean())\n",
    "print('Var',data['Population'].var(ddof=0))\n",
    "print('Std',data['Population'].std(ddof=0))\n",
    "print('Size',data['Population'].shape[0])"
   ]
  },
  {
   "cell_type": "code",
   "execution_count": 5,
   "metadata": {},
   "outputs": [],
   "source": [
    "# Just Checking if the empirical 68-95-99 rule is applicable here :-)\n",
    "#import matplotlib as plt\n",
    "#Mean = data['Population'].mean()\n",
    "#Std = data['Population'].std(ddof=0)\n",
    "#count = 0\n",
    "#for i in data['Population']:\n",
    "#    if Mean-2*Std<i<Mean+2*Std:\n",
    "#        count += 1\n",
    "#        print(i)\n",
    "#print(count/len(data['Population']))        "
   ]
  },
  {
   "cell_type": "markdown",
   "metadata": {},
   "source": [
    "#### We take the same values for our sample data where we enabled replacement.  Note that .var(ddof=1) i.e while calculating variance we took n-1 in denominator instead of n\n",
    "#### Here is a video to help you understand the statistical concept better[here](https://www.youtube.com/watch?v=wpY9o_OyxoQ)"
   ]
  },
  {
   "cell_type": "code",
   "execution_count": 6,
   "metadata": {},
   "outputs": [
    {
     "name": "stdout",
     "output_type": "stream",
     "text": [
      "Mean 46.85\n",
      "Var 543.9236842105263\n",
      "Std 23.322171515759983\n",
      "Size 20\n"
     ]
    }
   ],
   "source": [
    "print('Mean',var1.values.mean())\n",
    "print('Var',var1.values.var(ddof=1))\n",
    "print('Std',var1.values.std(ddof=1))\n",
    "print('Size',var1.shape[0])"
   ]
  },
  {
   "cell_type": "markdown",
   "metadata": {},
   "source": [
    "#### We create two lists containing variance of 50 samples selected from our 9 population values. We repeat it so that we have 500 such values in each list. One with ddof=0 the other with ddof=1."
   ]
  },
  {
   "cell_type": "code",
   "execution_count": 7,
   "metadata": {},
   "outputs": [],
   "source": [
    "sample_length = 500\n",
    "collection1  = [data['Population'].sample(50,replace=True).var(ddof=0) for i in range(sample_length)] \n",
    "collection2  = [data['Population'].sample(50,replace=True).var(ddof=1) for i in range(sample_length)]"
   ]
  },
  {
   "cell_type": "code",
   "execution_count": 8,
   "metadata": {},
   "outputs": [
    {
     "name": "stdout",
     "output_type": "stream",
     "text": [
      "Population Variance 362.46913580246905\n",
      "Avg variance when ddof=0 348.32953999999995\n",
      "Avg variance when ddof=1 361.6241542857142\n"
     ]
    }
   ],
   "source": [
    "print('Population Variance',data['Population'].var(ddof=0))\n",
    "print('Avg variance when ddof=0',pd.DataFrame(collection1)[0].mean())\n",
    "print('Avg variance when ddof=1',pd.DataFrame(collection2)[0].mean())"
   ]
  },
  {
   "cell_type": "markdown",
   "metadata": {},
   "source": [
    "#### We observe ddof=1 works better "
   ]
  },
  {
   "cell_type": "code",
   "execution_count": 9,
   "metadata": {},
   "outputs": [],
   "source": [
    "# We want to test some theories regarding the moment of some particular stock price, commodity price or \n",
    "# any type of prediction that we have made regarding some portfolio."
   ]
  },
  {
   "cell_type": "code",
   "execution_count": 10,
   "metadata": {},
   "outputs": [],
   "source": [
    "import numpy as np  \n",
    "fstsample = pd.DataFrame(np.random.normal(10,5,size=30)) \n",
    "#print(fstsample)"
   ]
  },
  {
   "cell_type": "code",
   "execution_count": 11,
   "metadata": {},
   "outputs": [
    {
     "name": "stdout",
     "output_type": "stream",
     "text": [
      "Mean 11.724766309983796\n",
      "StdDev 5.237325528535337\n"
     ]
    }
   ],
   "source": [
    "print('Mean',fstsample[0].mean())\n",
    "print('StdDev',fstsample[0].std(ddof=1))"
   ]
  },
  {
   "cell_type": "code",
   "execution_count": 12,
   "metadata": {},
   "outputs": [],
   "source": [
    "meanlist = []\n",
    "varlist = []\n",
    "for i in range(1000):\n",
    "    fstsample = pd.DataFrame(np.random.normal(10,5,size=30)) \n",
    "    meanlist.append(fstsample[0].mean())\n",
    "    varlist.append(fstsample[0].var(ddof=1))"
   ]
  },
  {
   "cell_type": "code",
   "execution_count": 13,
   "metadata": {},
   "outputs": [],
   "source": [
    "collection = pd.DataFrame()\n",
    "collection['Mean Value'] = meanlist\n",
    "collection['VarList Value'] = varlist"
   ]
  },
  {
   "cell_type": "code",
   "execution_count": 14,
   "metadata": {},
   "outputs": [
    {
     "data": {
      "text/html": [
       "<div>\n",
       "<style scoped>\n",
       "    .dataframe tbody tr th:only-of-type {\n",
       "        vertical-align: middle;\n",
       "    }\n",
       "\n",
       "    .dataframe tbody tr th {\n",
       "        vertical-align: top;\n",
       "    }\n",
       "\n",
       "    .dataframe thead th {\n",
       "        text-align: right;\n",
       "    }\n",
       "</style>\n",
       "<table border=\"1\" class=\"dataframe\">\n",
       "  <thead>\n",
       "    <tr style=\"text-align: right;\">\n",
       "      <th></th>\n",
       "      <th>Mean Value</th>\n",
       "      <th>VarList Value</th>\n",
       "    </tr>\n",
       "  </thead>\n",
       "  <tbody>\n",
       "    <tr>\n",
       "      <th>0</th>\n",
       "      <td>9.990423</td>\n",
       "      <td>20.085562</td>\n",
       "    </tr>\n",
       "    <tr>\n",
       "      <th>1</th>\n",
       "      <td>8.572862</td>\n",
       "      <td>33.313243</td>\n",
       "    </tr>\n",
       "  </tbody>\n",
       "</table>\n",
       "</div>"
      ],
      "text/plain": [
       "   Mean Value  VarList Value\n",
       "0    9.990423      20.085562\n",
       "1    8.572862      33.313243"
      ]
     },
     "execution_count": 14,
     "metadata": {},
     "output_type": "execute_result"
    }
   ],
   "source": [
    "collection[0:2]"
   ]
  },
  {
   "cell_type": "code",
   "execution_count": 15,
   "metadata": {},
   "outputs": [],
   "source": [
    "# we plot the histogram of mean values and find that it almost fits normal distribution "
   ]
  },
  {
   "cell_type": "code",
   "execution_count": 16,
   "metadata": {},
   "outputs": [
    {
     "data": {
      "text/plain": [
       "<matplotlib.axes._subplots.AxesSubplot at 0x1e7d077c488>"
      ]
     },
     "execution_count": 16,
     "metadata": {},
     "output_type": "execute_result"
    },
    {
     "data": {
      "image/png": "[encoded data removed]",
      "text/plain": [
       "<Figure size 432x288 with 1 Axes>"
      ]
     },
     "metadata": {
      "needs_background": "light"
     },
     "output_type": "display_data"
    }
   ],
   "source": [
    "collection['Mean Value'].hist(bins=400,density=1)"
   ]
  },
  {
   "cell_type": "code",
   "execution_count": 17,
   "metadata": {},
   "outputs": [],
   "source": [
    "# However when we plot the histogram forthe variance values we find that it is skewed to the \n",
    "# right cmpared to the normal distribution"
   ]
  },
  {
   "cell_type": "code",
   "execution_count": 18,
   "metadata": {},
   "outputs": [
    {
     "data": {
      "text/plain": [
       "<matplotlib.axes._subplots.AxesSubplot at 0x1e7d141d688>"
      ]
     },
     "execution_count": 18,
     "metadata": {},
     "output_type": "execute_result"
    },
    {
     "data": {
      "image/png": "[encoded data removed]",
      "text/plain": [
       "<Figure size 432x288 with 1 Axes>"
      ]
     },
     "metadata": {
      "needs_background": "light"
     },
     "output_type": "display_data"
    }
   ],
   "source": [
    "collection['VarList Value'].hist(bins=400,density=1)"
   ]
  },
  {
   "cell_type": "code",
   "execution_count": 19,
   "metadata": {},
   "outputs": [],
   "source": [
    "# we compare the distribution of values of a particular sample and the mean \n",
    "# notice that with the rise of number of samples ,we approximately get the normal distribution from the values "
   ]
  },
  {
   "cell_type": "code",
   "execution_count": 20,
   "metadata": {},
   "outputs": [
    {
     "data": {
      "text/plain": [
       "<matplotlib.axes._subplots.AxesSubplot at 0x1e7d19a3dc8>"
      ]
     },
     "execution_count": 20,
     "metadata": {},
     "output_type": "execute_result"
    },
    {
     "data": {
      "image/png": "[encoded data removed]",
      "text/plain": [
       "<Figure size 432x288 with 1 Axes>"
      ]
     },
     "metadata": {
      "needs_background": "light"
     },
     "output_type": "display_data"
    }
   ],
   "source": [
    "pop = pd.DataFrame(np.random.normal(10,5,size=500000))\n",
    "pop[0].hist(color='cyan',bins=400,density=1)\n",
    "collection['Mean Value'].hist(bins=400,density=1,color='red')"
   ]
  },
  {
   "cell_type": "code",
   "execution_count": 21,
   "metadata": {},
   "outputs": [],
   "source": [
    "# This is the Central limit Theorem\n",
    "# Take another example\n",
    "# First we gona take a small sample size "
   ]
  },
  {
   "cell_type": "code",
   "execution_count": 22,
   "metadata": {},
   "outputs": [],
   "source": [
    "sample = []\n",
    "apop = pd.DataFrame([1,0,1,0,1])\n",
    "for t in range(100000):\n",
    "    samples = apop[0].sample(10,replace=True)\n",
    "    sample.append(samples.mean())\n",
    "\n",
    "acollec = pd.DataFrame()\n",
    "acollec['MeanVal'] = sample"
   ]
  },
  {
   "cell_type": "code",
   "execution_count": 23,
   "metadata": {},
   "outputs": [
    {
     "data": {
      "text/plain": [
       "<matplotlib.axes._subplots.AxesSubplot at 0x1e7d24f2d48>"
      ]
     },
     "execution_count": 23,
     "metadata": {},
     "output_type": "execute_result"
    },
    {
     "data": {
      "image/png": "[encoded data removed]",
      "text/plain": [
       "<Figure size 432x288 with 1 Axes>"
      ]
     },
     "metadata": {
      "needs_background": "light"
     },
     "output_type": "display_data"
    }
   ],
   "source": [
    "acollec['MeanVal'].hist(bins=400,color ='cyan')"
   ]
  },
  {
   "cell_type": "code",
   "execution_count": 24,
   "metadata": {},
   "outputs": [],
   "source": [
    "# Now we take a bigger sample size"
   ]
  },
  {
   "cell_type": "code",
   "execution_count": 25,
   "metadata": {},
   "outputs": [],
   "source": [
    "sample = []\n",
    "apop = pd.DataFrame([1,0,1,0,1])\n",
    "for t in range(100000):\n",
    "    samples = apop[0].sample(2000,replace=True)\n",
    "    sample.append(samples.mean())\n",
    "\n",
    "acollec = pd.DataFrame()\n",
    "acollec['MeanVal'] = sample"
   ]
  },
  {
   "cell_type": "code",
   "execution_count": 26,
   "metadata": {},
   "outputs": [
    {
     "data": {
      "text/plain": [
       "<matplotlib.axes._subplots.AxesSubplot at 0x1e7d2a15b88>"
      ]
     },
     "execution_count": 26,
     "metadata": {},
     "output_type": "execute_result"
    },
    {
     "data": {
      "image/png": "[encoded data removed]",
      "text/plain": [
       "<Figure size 432x288 with 1 Axes>"
      ]
     },
     "metadata": {
      "needs_background": "light"
     },
     "output_type": "display_data"
    }
   ],
   "source": [
    "acollec['MeanVal'].hist(bins=400,color ='cyan')"
   ]
  },
  {
   "cell_type": "code",
   "execution_count": 27,
   "metadata": {},
   "outputs": [],
   "source": [
    "# Hence we confirm the hypothesis of the CLT"
   ]
  },
  {
   "cell_type": "markdown",
   "metadata": {},
   "source": [
    "#### Pls watch this video beore proceeding forward [ Redirect ](https://www.youtube.com/watch?v=4R8xm19DmPM)"
   ]
  },
  {
   "cell_type": "code",
   "execution_count": 28,
   "metadata": {},
   "outputs": [],
   "source": [
    "# Read This First \n",
    "# We basically want to predict whether a stock is worth investing in, given its history.\n",
    "# We will import the Stock Data Values of Facebook into a DataFrame\n",
    "# Then we will calculate the the profit or loss made by a person who buys 1 facebook stock in the morning and sells it in the evening.\n",
    "# We take its log for convinience\n",
    "# We then create a column called as LogReturn in our fb dataframe\n",
    "# Now our initial Graph is ready. We now begin to Normalize the Graph so we can leverage the information we know about the normalized distribution curve to our advantage.\n",
    "# We use Z = (X-mu)/sd \n",
    "# Here X is a random value from LogReturn, mu is its mean and sd is the standard deviation of LogReturn\n",
    "# Notice that we don't have the Population Mean or Population Standard Deviation since our stock data encompasses only a snapshot of the time where fb stock was publicly traded.\n",
    "# We take the sample mean and sample std deviation\n",
    "# We then can get info as to what is the chance that we will get a positive return if we invest today"
   ]
  },
  {
   "cell_type": "code",
   "execution_count": 29,
   "metadata": {},
   "outputs": [],
   "source": [
    "from scipy.stats import norm\n",
    "fb = pd.read_csv(r'../Week2/fb.csv') #importing the data set having facebook stock price data\n",
    "fb['LogReturn'] = np.log(fb['Close'].shift(-1))-np.log(fb['Close'])"
   ]
  },
  {
   "cell_type": "code",
   "execution_count": 30,
   "metadata": {},
   "outputs": [
    {
     "data": {
      "text/plain": [
       "<matplotlib.axes._subplots.AxesSubplot at 0x1e7d5442948>"
      ]
     },
     "execution_count": 30,
     "metadata": {},
     "output_type": "execute_result"
    },
    {
     "data": {
      "image/png": "[encoded data removed]",
      "text/plain": [
       "<Figure size 432x288 with 1 Axes>"
      ]
     },
     "metadata": {
      "needs_background": "light"
     },
     "output_type": "display_data"
    }
   ],
   "source": [
    "fb['LogReturn'].hist(bins=100)"
   ]
  },
  {
   "cell_type": "code",
   "execution_count": 31,
   "metadata": {},
   "outputs": [],
   "source": [
    "# The method norm.ppf() takes a percentage and returns a standard deviation multiplier \n",
    "# for what value that percentage occurs at"
   ]
  },
  {
   "cell_type": "code",
   "execution_count": 32,
   "metadata": {},
   "outputs": [],
   "source": [
    "z_left = norm.ppf(0.1) # we are asking it to provide the value at which we get 10% in a normal distribution curve \n",
    "z_right = norm.ppf(0.9) # we are asking it to provide the value at which we get 90% in a normal distribution curve \n",
    "sample_mean = fb['LogReturn'].mean() # mean of the sample \n",
    "sample_std = fb['LogReturn'].std(ddof=1)/(fb.shape[0])**0.5 # std dev of the sample as sample size is large\n",
    "#print(z_left)\n",
    "#print(z_right)"
   ]
  },
  {
   "cell_type": "code",
   "execution_count": 33,
   "metadata": {},
   "outputs": [
    {
     "name": "stdout",
     "output_type": "stream",
     "text": [
      "80% confidence interval is \n",
      "0.00027153725424113094 0.0015848683452107139\n"
     ]
    }
   ],
   "source": [
    "interval_left = sample_mean+z_left*sample_std # since Z = (X-mu)/sd , X = Z*sd + mu\n",
    "interval_right = sample_mean+z_right*sample_std # # since Z = (X-mu)/sd , X = Z*sd + mu\n",
    "print('80% confidence interval is ')\n",
    "print(interval_left,interval_right)"
   ]
  },
  {
   "cell_type": "code",
   "execution_count": 34,
   "metadata": {},
   "outputs": [],
   "source": [
    "# Since our Interval is positive, it means that stock price is likely to rise.\n",
    "# There is a 80% chance that our LogReturn value for tomorrow will fall inside this range "
   ]
  },
  {
   "cell_type": "markdown",
   "metadata": {},
   "source": [
    "#### Skip This Part Till you see X if you already know how to normalize a distribution curve"
   ]
  },
  {
   "cell_type": "code",
   "execution_count": 35,
   "metadata": {},
   "outputs": [],
   "source": [
    "#print(fb['LogReturn'].std(ddof=1))\n",
    "#l = [4,4,6,8,8]\n",
    "#l = pd.DataFrame(l)\n",
    "#e = []\n",
    "#for i in range(1000):\n",
    "#    val = pd.DataFrame(l.sample(1000,replace=True))\n",
    "#    mean = e.append(val.mean())\n",
    "#df = pd.DataFrame(e)   "
   ]
  },
  {
   "cell_type": "code",
   "execution_count": 36,
   "metadata": {},
   "outputs": [],
   "source": [
    "#df.hist(bins=100)\n",
    "#print(df.mean())"
   ]
  },
  {
   "cell_type": "code",
   "execution_count": 37,
   "metadata": {},
   "outputs": [],
   "source": [
    "#for i in range(len(e)):\n",
    "#    e[i] = e[i]-df.mean()\n",
    "#    e[i] = e[i]/df.std(ddof=1)\n",
    "#print(e[:10])    "
   ]
  },
  {
   "cell_type": "code",
   "execution_count": 38,
   "metadata": {},
   "outputs": [],
   "source": [
    "#df2 = pd.DataFrame(e)"
   ]
  },
  {
   "cell_type": "code",
   "execution_count": 39,
   "metadata": {},
   "outputs": [],
   "source": [
    "#df2.hist(bins=100)\n",
    "#print(df2.mean())"
   ]
  },
  {
   "cell_type": "code",
   "execution_count": 40,
   "metadata": {},
   "outputs": [],
   "source": [
    "#val1 = norm.ppf(0.1)\n",
    "#print(val1)"
   ]
  },
  {
   "cell_type": "markdown",
   "metadata": {},
   "source": [
    "#### ----------------------------X-----------------------------"
   ]
  },
  {
   "cell_type": "markdown",
   "metadata": {},
   "source": [
    "#### We now move on to the final module"
   ]
  },
  {
   "cell_type": "code",
   "execution_count": 41,
   "metadata": {},
   "outputs": [],
   "source": [
    "# We want to propose some hypothesis related to the performance of a particular stock.\n",
    "# We hypothesize that the average return of the facebook stock is 0.\n",
    "# We make this hypothesis based on the visual graphs that we see below"
   ]
  },
  {
   "cell_type": "code",
   "execution_count": 42,
   "metadata": {},
   "outputs": [
    {
     "data": {
      "text/plain": [
       "[<matplotlib.lines.Line2D at 0x1e7d55c8848>]"
      ]
     },
     "execution_count": 42,
     "metadata": {},
     "output_type": "execute_result"
    },
    {
     "data": {
      "image/png": "[encoded data removed]",
      "text/plain": [
       "<Figure size 432x288 with 1 Axes>"
      ]
     },
     "metadata": {
      "needs_background": "light"
     },
     "output_type": "display_data"
    }
   ],
   "source": [
    "import matplotlib.pyplot as plt\n",
    "plt.title('Closing Priceof the FB Stock',size =15)\n",
    "plt.xlabel('Time in Days',size=12)\n",
    "plt.ylabel('US Dollars',size=12)\n",
    "plt.plot(fb.loc[:,'Close'])"
   ]
  },
  {
   "cell_type": "code",
   "execution_count": 43,
   "metadata": {},
   "outputs": [
    {
     "data": {
      "text/plain": [
       "<matplotlib.lines.Line2D at 0x1e7d55e39c8>"
      ]
     },
     "execution_count": 43,
     "metadata": {},
     "output_type": "execute_result"
    },
    {
     "data": {
      "image/png": "[encoded data removed]",
      "text/plain": [
       "<Figure size 432x288 with 1 Axes>"
      ]
     },
     "metadata": {
      "needs_background": "light"
     },
     "output_type": "display_data"
    }
   ],
   "source": [
    "plt.title('LogReturn of FB Stock',size =15)\n",
    "plt.xlabel('Time in Days',size=12)\n",
    "plt.ylabel('US Dollars',size=12)\n",
    "plt.xlim(fb.index[0], fb.index[-1])\n",
    "plt.plot(fb.loc[:,'LogReturn'])\n",
    "plt.axhline(0,color='red')"
   ]
  },
  {
   "cell_type": "code",
   "execution_count": 44,
   "metadata": {},
   "outputs": [
    {
     "data": {
      "text/plain": [
       "<matplotlib.axes._subplots.AxesSubplot at 0x1e7d0432548>"
      ]
     },
     "execution_count": 44,
     "metadata": {},
     "output_type": "execute_result"
    },
    {
     "data": {
      "image/png": "[encoded data removed]",
      "text/plain": [
       "<Figure size 432x288 with 1 Axes>"
      ]
     },
     "metadata": {
      "needs_background": "light"
     },
     "output_type": "display_data"
    }
   ],
   "source": [
    "plt.title('Daily LogReturn of FB Stock')\n",
    "fb.loc[:,'LogReturn'].dropna().hist(bins=100)"
   ]
  },
  {
   "cell_type": "code",
   "execution_count": 45,
   "metadata": {},
   "outputs": [],
   "source": [
    "# Conclusions that can be drawn by looking at the graphs\n",
    "# The Facebook Stock tends to go up as a whole for some period of years\n",
    "# The Daily Return from the past years is not following any trend or pattern"
   ]
  },
  {
   "cell_type": "code",
   "execution_count": 46,
   "metadata": {},
   "outputs": [],
   "source": [
    "# We now make a suitable hypothesis as to what is the avg value of return obtained everyday\n",
    "# It is not obvious from the chart whether  it is 0,+ve or -ve.\n",
    "# We make Null hypothesis that avg return value is 0\n",
    "# Its opposite is that it is not 0. This is Alternative hypothesis."
   ]
  },
  {
   "cell_type": "code",
   "execution_count": 47,
   "metadata": {},
   "outputs": [],
   "source": [
    "# let mu be the avg return value predicted by first hypothesis (population parameter).\n",
    "# Let X be the actual avg return value (sample statistic).\n",
    "# If (X-mu) is significant, then the Alternative hypothesis is true.\n",
    "# How to know how much difference is significant,is the critical question."
   ]
  },
  {
   "cell_type": "code",
   "execution_count": 48,
   "metadata": {},
   "outputs": [],
   "source": [
    "# First we standardize the return value as for a large sample size our variance is always large and hence we might mistake a non significantvalue for a significant one.\n",
    "# To standardize we subtract the population mean and divide it by standard deviation\n",
    "# Z = (x-mu)/sd\n",
    "# In most cases we dont know the value of sd of population, So we replace it with sd of sample\n",
    "# The term is then called t = (x-mu)/sd(sample)\n",
    "# If the sample size is large , we can consider t same as Z"
   ]
  },
  {
   "cell_type": "code",
   "execution_count": 49,
   "metadata": {},
   "outputs": [
    {
     "name": "stdout",
     "output_type": "stream",
     "text": [
      "1.8114849474148131\n"
     ]
    }
   ],
   "source": [
    "xbar = fb['LogReturn'].mean()\n",
    "sd = fb['LogReturn'].std(ddof=1)\n",
    "n = fb.shape[0]\n",
    "zhat = (xbar-0)/(sd/(n**0.5))\n",
    "print(zhat)"
   ]
  },
  {
   "cell_type": "code",
   "execution_count": 50,
   "metadata": {},
   "outputs": [],
   "source": [
    "# What this indicates is that we thought our normalized curve would have a mean return of 0 , however the curve has the value at 1.8114"
   ]
  },
  {
   "cell_type": "code",
   "execution_count": 51,
   "metadata": {},
   "outputs": [
    {
     "name": "stdout",
     "output_type": "stream",
     "text": [
      "1.6448536269514729 -1.6448536269514729\n",
      "We selected alpha as  10.0 %\n",
      "Whether to reject our null hypothesis:  True\n"
     ]
    }
   ],
   "source": [
    "alpha = 0.1\n",
    "left_limit = norm.ppf(alpha/2,0,1)\n",
    "right_limit = -left_limit\n",
    "print(right_limit,left_limit)\n",
    "print(f'We selected alpha as ',alpha*100,'%')\n",
    "print(f'Whether to reject our null hypothesis: ',(zhat<left_limit or zhat>right_limit))"
   ]
  },
  {
   "cell_type": "code",
   "execution_count": 52,
   "metadata": {},
   "outputs": [],
   "source": [
    "# This is the two tail test"
   ]
  },
  {
   "cell_type": "code",
   "execution_count": 53,
   "metadata": {},
   "outputs": [
    {
     "name": "stdout",
     "output_type": "stream",
     "text": [
      "1.6448536269514729 -1.6448536269514729\n",
      "We selected alpha as  10.0 %\n",
      "Whether to reject our null hypothesis:  True\n"
     ]
    }
   ],
   "source": [
    "print(right_limit,left_limit)\n",
    "print(f'We selected alpha as ',alpha*100,'%')\n",
    "print(f'Whether to reject our null hypothesis: ',zhat>right_limit)"
   ]
  },
  {
   "cell_type": "code",
   "execution_count": 54,
   "metadata": {},
   "outputs": [],
   "source": [
    "# This is the one tail test that we used to find if our mean return value is greater than the given alpha"
   ]
  },
  {
   "cell_type": "code",
   "execution_count": 55,
   "metadata": {},
   "outputs": [],
   "source": [
    "# We generally use the P value to determine whether our hypothesis that is true for a sample size, will also be true for population size."
   ]
  },
  {
   "cell_type": "code",
   "execution_count": 56,
   "metadata": {},
   "outputs": [
    {
     "name": "stdout",
     "output_type": "stream",
     "text": [
      "At significance level 0.05\n",
      "Should we reject True\n"
     ]
    }
   ],
   "source": [
    "alpha = 0.05\n",
    "p = 1-(norm.cdf(abs(zhat),0,1))\n",
    "print('At significance level',alpha)\n",
    "print('Should we reject',p<alpha)"
   ]
  },
  {
   "cell_type": "markdown",
   "metadata": {},
   "source": [
    "### ------------------------------End-------------------------------- "
   ]
  },
  {
   "cell_type": "code",
   "execution_count": null,
   "metadata": {},
   "outputs": [],
   "source": []
  }
 ],
 "metadata": {
  "kernelspec": {
   "display_name": "Python 3",
   "language": "python",
   "name": "python3"
  },
  "language_info": {
   "codemirror_mode": {
    "name": "ipython",
    "version": 3
   },
   "file_extension": ".py",
   "mimetype": "text/x-python",
   "name": "python",
   "nbconvert_exporter": "python",
   "pygments_lexer": "ipython3",
   "version": "3.7.6"
  }
 },
 "nbformat": 4,
 "nbformat_minor": 4
}
