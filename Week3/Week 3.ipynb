{
 "cells": [
  {
   "cell_type": "markdown",
   "metadata": {},
   "source": [
    "### Population and Sample"
   ]
  },
  {
   "cell_type": "code",
   "execution_count": 1,
   "metadata": {},
   "outputs": [],
   "source": [
    "import pandas as pd \n",
    "data = pd.DataFrame()"
   ]
  },
  {
   "cell_type": "code",
   "execution_count": 2,
   "metadata": {},
   "outputs": [],
   "source": [
    "data['Population'] = [12,34,62,53,43,49,32,82,33]"
   ]
  },
  {
   "cell_type": "code",
   "execution_count": 37,
   "metadata": {},
   "outputs": [
    {
     "data": {
      "text/plain": [
       "pandas.core.series.Series"
      ]
     },
     "execution_count": 37,
     "metadata": {},
     "output_type": "execute_result"
    }
   ],
   "source": [
    "var1 = data['Population'].sample(20,replace=True) #here we can have repeated values while selecting\n",
    "var2 = data['Population'].sample(9,replace=False) #here we can't have repeated values while selecting\n",
    "#print(var1,var2)\n",
    "type(var1)"
   ]
  },
  {
   "cell_type": "markdown",
   "metadata": {},
   "source": [
    "#### We take Mean Variance and Std Deviation of our values "
   ]
  },
  {
   "cell_type": "code",
   "execution_count": 13,
   "metadata": {},
   "outputs": [
    {
     "name": "stdout",
     "output_type": "stream",
     "text": [
      "Mean 44.44444444444444\n",
      "Var 362.46913580246905\n",
      "Std 19.038622213870127\n",
      "Size 9\n"
     ]
    }
   ],
   "source": [
    "print('Mean',data['Population'].mean())\n",
    "print('Var',data['Population'].var(ddof=0))\n",
    "print('Std',data['Population'].std(ddof=0))\n",
    "print('Size',data['Population'].shape[0])"
   ]
  },
  {
   "cell_type": "code",
   "execution_count": 38,
   "metadata": {},
   "outputs": [],
   "source": [
    "# Just Checking if the empirical 68-95-99 rule is applicable here :-)\n",
    "#import matplotlib as plt\n",
    "#Mean = data['Population'].mean()\n",
    "#Std = data['Population'].std(ddof=0)\n",
    "#count = 0\n",
    "#for i in data['Population']:\n",
    "#    if Mean-2*Std<i<Mean+2*Std:\n",
    "#        count += 1\n",
    "#        print(i)\n",
    "#print(count/len(data['Population']))        "
   ]
  },
  {
   "cell_type": "markdown",
   "metadata": {},
   "source": [
    "#### We take the same values for our sample data where we enabled replacement.  Note that .var(ddof=1) i.e while calculating variance we took n-1 in denominator instead of n\n",
    "#### Here is a video to help you understand the statistical concept better[here](https://www.youtube.com/watch?v=wpY9o_OyxoQ)"
   ]
  },
  {
   "cell_type": "code",
   "execution_count": 10,
   "metadata": {},
   "outputs": [
    {
     "name": "stdout",
     "output_type": "stream",
     "text": [
      "Mean 39.25\n",
      "Var 406.4078947368421\n",
      "Std 20.159560876587616\n",
      "Size 20\n"
     ]
    }
   ],
   "source": [
    "print('Mean',var1.values.mean())\n",
    "print('Var',var1.values.var(ddof=1))\n",
    "print('Std',var1.values.std(ddof=1))\n",
    "print('Size',var1.shape[0])"
   ]
  },
  {
   "cell_type": "markdown",
   "metadata": {},
   "source": [
    "#### We create two lists containing variance of 50 samples selected from our 9 population values. We repeat it so that we have 500 such values in each list. One with ddof=0 the other with ddof=1."
   ]
  },
  {
   "cell_type": "code",
   "execution_count": 39,
   "metadata": {},
   "outputs": [],
   "source": [
    "sample_length = 500\n",
    "collection1  = [data['Population'].sample(50,replace=True).var(ddof=0) for i in range(sample_length)] \n",
    "collection2  = [data['Population'].sample(50,replace=True).var(ddof=1) for i in range(sample_length)]"
   ]
  },
  {
   "cell_type": "code",
   "execution_count": 41,
   "metadata": {},
   "outputs": [
    {
     "name": "stdout",
     "output_type": "stream",
     "text": [
      "Population Variance 362.46913580246905\n",
      "Avg variance when ddof=0 346.8611311999996\n",
      "Avg variance when ddof=1 366.7076955102043\n"
     ]
    }
   ],
   "source": [
    "print('Population Variance',data['Population'].var(ddof=0))\n",
    "print('Avg variance when ddof=0',pd.DataFrame(collection1)[0].mean())\n",
    "print('Avg variance when ddof=1',pd.DataFrame(collection2)[0].mean())"
   ]
  },
  {
   "cell_type": "markdown",
   "metadata": {},
   "source": [
    "#### We observe ddof=1 works better "
   ]
  },
  {
   "cell_type": "code",
   "execution_count": 42,
   "metadata": {},
   "outputs": [],
   "source": [
    "# We want to test some theories regarding the moment of some particular stock price, commodity price or \n",
    "# any type of prediction that we have made regarding some portfolio."
   ]
  },
  {
   "cell_type": "code",
   "execution_count": 109,
   "metadata": {},
   "outputs": [],
   "source": [
    "import numpy as np  \n",
    "fstsample = pd.DataFrame(np.random.normal(10,5,size=30)) \n",
    "#print(fstsample)"
   ]
  },
  {
   "cell_type": "code",
   "execution_count": 110,
   "metadata": {},
   "outputs": [
    {
     "name": "stdout",
     "output_type": "stream",
     "text": [
      "Mean 10.613771266748985\n",
      "StdDev 5.740685083348704\n"
     ]
    }
   ],
   "source": [
    "print('Mean',fstsample[0].mean())\n",
    "print('StdDev',fstsample[0].std(ddof=1))"
   ]
  },
  {
   "cell_type": "code",
   "execution_count": 111,
   "metadata": {},
   "outputs": [],
   "source": [
    "meanlist = []\n",
    "varlist = []\n",
    "for i in range(1000):\n",
    "    fstsample = pd.DataFrame(np.random.normal(10,5,size=30)) \n",
    "    meanlist.append(fstsample[0].mean())\n",
    "    varlist.append(fstsample[0].var(ddof=1))"
   ]
  },
  {
   "cell_type": "code",
   "execution_count": 112,
   "metadata": {},
   "outputs": [],
   "source": [
    "collection = pd.DataFrame()\n",
    "collection['Mean Value'] = meanlist\n",
    "collection['VarList Value'] = varlist"
   ]
  },
  {
   "cell_type": "code",
   "execution_count": 113,
   "metadata": {},
   "outputs": [
    {
     "data": {
      "text/html": [
       "<div>\n",
       "<style scoped>\n",
       "    .dataframe tbody tr th:only-of-type {\n",
       "        vertical-align: middle;\n",
       "    }\n",
       "\n",
       "    .dataframe tbody tr th {\n",
       "        vertical-align: top;\n",
       "    }\n",
       "\n",
       "    .dataframe thead th {\n",
       "        text-align: right;\n",
       "    }\n",
       "</style>\n",
       "<table border=\"1\" class=\"dataframe\">\n",
       "  <thead>\n",
       "    <tr style=\"text-align: right;\">\n",
       "      <th></th>\n",
       "      <th>Mean Value</th>\n",
       "      <th>VarList Value</th>\n",
       "    </tr>\n",
       "  </thead>\n",
       "  <tbody>\n",
       "    <tr>\n",
       "      <th>0</th>\n",
       "      <td>10.742032</td>\n",
       "      <td>18.126778</td>\n",
       "    </tr>\n",
       "    <tr>\n",
       "      <th>1</th>\n",
       "      <td>10.657556</td>\n",
       "      <td>25.285990</td>\n",
       "    </tr>\n",
       "  </tbody>\n",
       "</table>\n",
       "</div>"
      ],
      "text/plain": [
       "   Mean Value  VarList Value\n",
       "0   10.742032      18.126778\n",
       "1   10.657556      25.285990"
      ]
     },
     "execution_count": 113,
     "metadata": {},
     "output_type": "execute_result"
    }
   ],
   "source": [
    "collection[0:2]"
   ]
  },
  {
   "cell_type": "code",
   "execution_count": 116,
   "metadata": {},
   "outputs": [],
   "source": [
    "# we plot the histogram of mean values and find that it almost fits normal distribution "
   ]
  },
  {
   "cell_type": "code",
   "execution_count": 114,
   "metadata": {},
   "outputs": [
    {
     "data": {
      "text/plain": [
       "<matplotlib.axes._subplots.AxesSubplot at 0x1ef94dcb508>"
      ]
     },
     "execution_count": 114,
     "metadata": {},
     "output_type": "execute_result"
    },
    {
     "data": {
      "image/png": "[encoded data removed]",
      "text/plain": [
       "<Figure size 432x288 with 1 Axes>"
      ]
     },
     "metadata": {
      "needs_background": "light"
     },
     "output_type": "display_data"
    }
   ],
   "source": [
    "collection['Mean Value'].hist(bins=400,density=1)"
   ]
  },
  {
   "cell_type": "code",
   "execution_count": null,
   "metadata": {},
   "outputs": [],
   "source": [
    "# However when we plot the histogram forthe variance values we find that it is skewed to the \n",
    "# right cmpared to the normal distribution"
   ]
  },
  {
   "cell_type": "code",
   "execution_count": 117,
   "metadata": {},
   "outputs": [
    {
     "data": {
      "text/plain": [
       "<matplotlib.axes._subplots.AxesSubplot at 0x1ef956a8f48>"
      ]
     },
     "execution_count": 117,
     "metadata": {},
     "output_type": "execute_result"
    },
    {
     "data": {
      "image/png": "[encoded data removed]",
      "text/plain": [
       "<Figure size 432x288 with 1 Axes>"
      ]
     },
     "metadata": {
      "needs_background": "light"
     },
     "output_type": "display_data"
    }
   ],
   "source": [
    "collection['VarList Value'].hist(bins=400,density=1)"
   ]
  },
  {
   "cell_type": "code",
   "execution_count": 125,
   "metadata": {},
   "outputs": [],
   "source": [
    "# we compare the distribution of values of a particular sample and the mean \n",
    "# notice that with the rise of number of samples ,we approximately get the normal distribution from the values "
   ]
  },
  {
   "cell_type": "code",
   "execution_count": 126,
   "metadata": {},
   "outputs": [
    {
     "data": {
      "text/plain": [
       "<matplotlib.axes._subplots.AxesSubplot at 0x1ef9864c848>"
      ]
     },
     "execution_count": 126,
     "metadata": {},
     "output_type": "execute_result"
    },
    {
     "data": {
      "image/png": "[encoded data removed]",
      "text/plain": [
       "<Figure size 432x288 with 1 Axes>"
      ]
     },
     "metadata": {
      "needs_background": "light"
     },
     "output_type": "display_data"
    }
   ],
   "source": [
    "pop = pd.DataFrame(np.random.normal(10,5,size=500000))\n",
    "pop[0].hist(color='cyan',bins=400,density=1)\n",
    "collection['Mean Value'].hist(bins=400,density=1,color='red')"
   ]
  },
  {
   "cell_type": "code",
   "execution_count": 131,
   "metadata": {},
   "outputs": [],
   "source": [
    "# This is the Central limit Theorem\n",
    "# Take another example\n",
    "# First we gona take a small sample size "
   ]
  },
  {
   "cell_type": "code",
   "execution_count": 132,
   "metadata": {},
   "outputs": [],
   "source": [
    "sample = []\n",
    "apop = pd.DataFrame([1,0,1,0,1])\n",
    "for t in range(100000):\n",
    "    samples = apop[0].sample(10,replace=True)\n",
    "    sample.append(samples.mean())\n",
    "\n",
    "acollec = pd.DataFrame()\n",
    "acollec['MeanVal'] = sample"
   ]
  },
  {
   "cell_type": "code",
   "execution_count": 133,
   "metadata": {},
   "outputs": [
    {
     "data": {
      "text/plain": [
       "<matplotlib.axes._subplots.AxesSubplot at 0x1ef9787a2c8>"
      ]
     },
     "execution_count": 133,
     "metadata": {},
     "output_type": "execute_result"
    },
    {
     "data": {
      "image/png": "[encoded data removed]",
      "text/plain": [
       "<Figure size 432x288 with 1 Axes>"
      ]
     },
     "metadata": {
      "needs_background": "light"
     },
     "output_type": "display_data"
    }
   ],
   "source": [
    "acollec['MeanVal'].hist(bins=400,color ='cyan')"
   ]
  },
  {
   "cell_type": "code",
   "execution_count": 134,
   "metadata": {},
   "outputs": [],
   "source": [
    "# Now we take a bigger sample size"
   ]
  },
  {
   "cell_type": "code",
   "execution_count": 136,
   "metadata": {},
   "outputs": [],
   "source": [
    "sample = []\n",
    "apop = pd.DataFrame([1,0,1,0,1])\n",
    "for t in range(100000):\n",
    "    samples = apop[0].sample(2000,replace=True)\n",
    "    sample.append(samples.mean())\n",
    "\n",
    "acollec = pd.DataFrame()\n",
    "acollec['MeanVal'] = sample"
   ]
  },
  {
   "cell_type": "code",
   "execution_count": 137,
   "metadata": {},
   "outputs": [
    {
     "data": {
      "text/plain": [
       "<matplotlib.axes._subplots.AxesSubplot at 0x1ef99c2d848>"
      ]
     },
     "execution_count": 137,
     "metadata": {},
     "output_type": "execute_result"
    },
    {
     "data": {
      "image/png": "[encoded data removed]",
      "text/plain": [
       "<Figure size 432x288 with 1 Axes>"
      ]
     },
     "metadata": {
      "needs_background": "light"
     },
     "output_type": "display_data"
    }
   ],
   "source": [
    "acollec['MeanVal'].hist(bins=400,color ='cyan')"
   ]
  },
  {
   "cell_type": "code",
   "execution_count": 138,
   "metadata": {},
   "outputs": [],
   "source": [
    "# Hence we confirm the hypothesis of the CLT"
   ]
  },
  {
   "cell_type": "code",
   "execution_count": 168,
   "metadata": {},
   "outputs": [],
   "source": [
    "from scipy.stats import norm\n",
    "fb = pd.read_csv(r'../Week2/fb.csv') #importing the data set having facebook stock price data\n",
    "fb['LogReturn'] = np.log(fb['Close'].shift(-1))-np.log(fb['Close'])"
   ]
  },
  {
   "cell_type": "code",
   "execution_count": 169,
   "metadata": {},
   "outputs": [
    {
     "data": {
      "text/plain": [
       "<matplotlib.axes._subplots.AxesSubplot at 0x1ef9d423448>"
      ]
     },
     "execution_count": 169,
     "metadata": {},
     "output_type": "execute_result"
    },
    {
     "data": {
      "image/png": "[encoded data removed]",
      "text/plain": [
       "<Figure size 432x288 with 1 Axes>"
      ]
     },
     "metadata": {
      "needs_background": "light"
     },
     "output_type": "display_data"
    }
   ],
   "source": [
    "fb['LogReturn'].hist(bins=100)"
   ]
  },
  {
   "cell_type": "code",
   "execution_count": 170,
   "metadata": {},
   "outputs": [],
   "source": [
    "# The method norm.ppf() takes a percentage and returns a standard deviation multiplier \n",
    "# for what value that percentage occurs at"
   ]
  },
  {
   "cell_type": "code",
   "execution_count": 171,
   "metadata": {},
   "outputs": [],
   "source": [
    "z_left = norm.ppf(0.1) # we are asking it to provide the value at which we get 10% in a normal distribution curve \n",
    "z_right = norm.ppf(0.9)\n",
    "sample_mean = fb['LogReturn'].mean() # mean of the sample \n",
    "sample_std = fb['LogReturn'].std(ddof=1)/(fb.shape[0])**0.5 # std dev\n",
    "#print(z_left)\n",
    "#print(z_right)"
   ]
  },
  {
   "cell_type": "code",
   "execution_count": 156,
   "metadata": {},
   "outputs": [
    {
     "name": "stdout",
     "output_type": "stream",
     "text": [
      "80% confidence interval is \n",
      "0.00027153725424113094 0.0015848683452107139\n"
     ]
    }
   ],
   "source": [
    "interval_left = sample_mean+z_left*sample_std\n",
    "interval_right = sample_mean+z_right*sample_std\n",
    "print('80% confidence interval is ')\n",
    "print(interval_left,interval_right)"
   ]
  },
  {
   "cell_type": "code",
   "execution_count": 224,
   "metadata": {},
   "outputs": [
    {
     "name": "stdout",
     "output_type": "stream",
     "text": [
      "0.023346501971697856\n"
     ]
    }
   ],
   "source": [
    "print(fb['LogReturn'].std(ddof=1))\n",
    "l = [4,4,6,8,8]\n",
    "l = pd.DataFrame(l)\n",
    "e = []\n",
    "for i in range(1000):\n",
    "    val = pd.DataFrame(l.sample(1000,replace=True))\n",
    "    mean = e.append(val.mean())\n",
    "df = pd.DataFrame(e)   "
   ]
  },
  {
   "cell_type": "code",
   "execution_count": 220,
   "metadata": {},
   "outputs": [
    {
     "name": "stdout",
     "output_type": "stream",
     "text": [
      "0    6.000526\n",
      "dtype: float64\n"
     ]
    },
    {
     "data": {
      "image/png": "[encoded data removed]",
      "text/plain": [
       "<Figure size 432x288 with 1 Axes>"
      ]
     },
     "metadata": {
      "needs_background": "light"
     },
     "output_type": "display_data"
    }
   ],
   "source": [
    "df.hist(bins=100)\n",
    "print(df.mean())"
   ]
  },
  {
   "cell_type": "code",
   "execution_count": 221,
   "metadata": {},
   "outputs": [
    {
     "name": "stdout",
     "output_type": "stream",
     "text": [
      "[0    0.345208\n",
      "dtype: float64, 0    0.026129\n",
      "dtype: float64, 0    0.238849\n",
      "dtype: float64, 0    0.345208\n",
      "dtype: float64, 0    0.132489\n",
      "dtype: float64, 0   -0.718389\n",
      "dtype: float64, 0    0.238849\n",
      "dtype: float64, 0   -0.18659\n",
      "dtype: float64, 0   -0.39931\n",
      "dtype: float64, 0   -0.29295\n",
      "dtype: float64]\n"
     ]
    }
   ],
   "source": [
    "for i in range(len(e)):\n",
    "    e[i] = e[i]-df.mean()\n",
    "    e[i] = e[i]/df.std(ddof=1)\n",
    "print(e[:10])    "
   ]
  },
  {
   "cell_type": "code",
   "execution_count": 222,
   "metadata": {},
   "outputs": [],
   "source": [
    "df2 = pd.DataFrame(e)"
   ]
  },
  {
   "cell_type": "code",
   "execution_count": 223,
   "metadata": {},
   "outputs": [
    {
     "name": "stdout",
     "output_type": "stream",
     "text": [
      "0    3.443468e-15\n",
      "dtype: float64\n"
     ]
    },
    {
     "data": {
      "image/png": "[encoded data removed]",
      "text/plain": [
       "<Figure size 432x288 with 1 Axes>"
      ]
     },
     "metadata": {
      "needs_background": "light"
     },
     "output_type": "display_data"
    }
   ],
   "source": [
    "df2.hist(bins=100)\n",
    "print(df2.mean())"
   ]
  },
  {
   "cell_type": "code",
   "execution_count": null,
   "metadata": {},
   "outputs": [],
   "source": []
  }
 ],
 "metadata": {
  "kernelspec": {
   "display_name": "Python 3",
   "language": "python",
   "name": "python3"
  },
  "language_info": {
   "codemirror_mode": {
    "name": "ipython",
    "version": 3
   },
   "file_extension": ".py",
   "mimetype": "text/x-python",
   "name": "python",
   "nbconvert_exporter": "python",
   "pygments_lexer": "ipython3",
   "version": "3.7.6"
  }
 },
 "nbformat": 4,
 "nbformat_minor": 4
}
